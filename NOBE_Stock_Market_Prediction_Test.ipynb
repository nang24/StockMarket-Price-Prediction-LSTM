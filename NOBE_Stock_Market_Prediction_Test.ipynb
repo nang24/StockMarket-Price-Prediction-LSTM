{
  "cells": [
    {
      "cell_type": "code",
      "execution_count": 2,
      "metadata": {
        "id": "ppNMYUPksfpC"
      },
      "outputs": [
        {
          "ename": "ModuleNotFoundError",
          "evalue": "No module named 'pandas_datareader'",
          "output_type": "error",
          "traceback": [
            "\u001b[0;31m---------------------------------------------------------------------------\u001b[0m",
            "\u001b[0;31mModuleNotFoundError\u001b[0m                       Traceback (most recent call last)",
            "\u001b[0;32m<ipython-input-2-ddaecd16fd0b>\u001b[0m in \u001b[0;36m<module>\u001b[0;34m\u001b[0m\n\u001b[1;32m      1\u001b[0m \u001b[0;32mimport\u001b[0m \u001b[0mnumpy\u001b[0m \u001b[0;32mas\u001b[0m \u001b[0mnp\u001b[0m\u001b[0;34m\u001b[0m\u001b[0;34m\u001b[0m\u001b[0m\n\u001b[1;32m      2\u001b[0m \u001b[0;32mimport\u001b[0m \u001b[0mpandas\u001b[0m \u001b[0;32mas\u001b[0m \u001b[0mpd\u001b[0m\u001b[0;34m\u001b[0m\u001b[0;34m\u001b[0m\u001b[0m\n\u001b[0;32m----> 3\u001b[0;31m \u001b[0;32mimport\u001b[0m \u001b[0mpandas_datareader\u001b[0m \u001b[0;32mas\u001b[0m \u001b[0mweb\u001b[0m\u001b[0;34m\u001b[0m\u001b[0;34m\u001b[0m\u001b[0m\n\u001b[0m\u001b[1;32m      4\u001b[0m \u001b[0;32mimport\u001b[0m \u001b[0mdatetime\u001b[0m \u001b[0;32mas\u001b[0m \u001b[0mdt\u001b[0m\u001b[0;34m\u001b[0m\u001b[0;34m\u001b[0m\u001b[0m\n\u001b[1;32m      5\u001b[0m \u001b[0;34m\u001b[0m\u001b[0m\n",
            "\u001b[0;31mModuleNotFoundError\u001b[0m: No module named 'pandas_datareader'"
          ]
        }
      ],
      "source": [
        "import numpy as np\n",
        "import pandas as pd\n",
        "import pandas_datareader as web\n",
        "import datetime as dt\n",
        "\n",
        "from sklearn.preprocessing import MinMaxScaler\n",
        "\n",
        "from tensorflow.keras.models import Sequential\n",
        "from tensorflow.keras.layers import Dense, Dropout, LSTM\n",
        "\n",
        "import matplotlib.pyplot as plt\n",
        "import tweepy"
      ]
    },
    {
      "cell_type": "code",
      "execution_count": null,
      "metadata": {
        "id": "5Lj5RPDytDld"
      },
      "outputs": [],
      "source": [
        "company = 'AAPL'\n",
        "\n",
        "start = dt.datetime(2005, 1, 1)\n",
        "end = dt.datetime(2020, 12, 27)\n",
        "\n",
        "data = web.DataReader(company, 'stooq', start, end)\n",
        "\n",
        "# print(type(data))\n",
        "# print(data)\n",
        "\n",
        "# data['Close'].values.reshape(-1, 1)\n"
      ]
    },
    {
      "cell_type": "code",
      "execution_count": null,
      "metadata": {
        "id": "LnKzi9FItRpD"
      },
      "outputs": [],
      "source": [
        "scaler = MinMaxScaler(feature_range=(0, 1))\n",
        "\n",
        "scaled_data = scaler.fit_transform(data['Close'].values.reshape(-1, 1))\n",
        "\n",
        "prediction_days = 60\n",
        "\n",
        "x_train = []\n",
        "y_train = []\n",
        "\n",
        "for x in range(prediction_days, len(scaled_data)):\n",
        "  x_train.append(scaled_data[x - prediction_days:x, 0])\n",
        "  y_train.append(scaled_data[x, 0])\n",
        "\n",
        "x_train = np.array(x_train)\n",
        "y_train = np.array(y_train)\n",
        "\n",
        "x_train = np.reshape(x_train, (x_train.shape[0], x_train.shape[1], 1))\n"
      ]
    },
    {
      "cell_type": "code",
      "execution_count": null,
      "metadata": {
        "id": "y6DRoe5jwV8G"
      },
      "outputs": [],
      "source": [
        "x = 20\n",
        "y = 0.2\n",
        "\n",
        "model = Sequential()\n",
        "\n",
        "model.add(LSTM(units=x, return_sequences=True, input_shape=(x_train.shape[1], 1) ))\n",
        "model.add(Dropout(y))\n",
        "model.add(LSTM(units=x, return_sequences=True))\n",
        "model.add(Dropout(y))\n",
        "model.add(LSTM(units=x))\n",
        "model.add(Dropout(y))\n",
        "model.add(Dense(units=1)) # Prediction of the next closing day\n",
        "\n",
        "model.compile(optimizer='adam', loss='mean_squared_error')"
      ]
    },
    {
      "cell_type": "code",
      "execution_count": null,
      "metadata": {
        "colab": {
          "base_uri": "https://localhost:8080/"
        },
        "id": "bXi8kQCg1x03",
        "outputId": "5bca3ffb-5719-41c7-b09f-30a1431cc4b2"
      },
      "outputs": [
        {
          "name": "stdout",
          "output_type": "stream",
          "text": [
            "Epoch 1/25\n",
            "124/124 [==============================] - 14s 67ms/step - loss: 0.0073\n",
            "Epoch 2/25\n",
            "124/124 [==============================] - 8s 67ms/step - loss: 0.0013\n",
            "Epoch 3/25\n",
            "124/124 [==============================] - 8s 68ms/step - loss: 0.0011\n",
            "Epoch 4/25\n",
            "124/124 [==============================] - 8s 67ms/step - loss: 9.9412e-04\n",
            "Epoch 5/25\n",
            "124/124 [==============================] - 8s 67ms/step - loss: 9.2342e-04\n",
            "Epoch 6/25\n",
            "124/124 [==============================] - 8s 66ms/step - loss: 8.9010e-04\n",
            "Epoch 7/25\n",
            "124/124 [==============================] - 8s 67ms/step - loss: 9.2163e-04\n",
            "Epoch 8/25\n",
            "124/124 [==============================] - 8s 67ms/step - loss: 8.2941e-04\n",
            "Epoch 9/25\n",
            "124/124 [==============================] - 8s 67ms/step - loss: 6.9363e-04\n",
            "Epoch 10/25\n",
            "124/124 [==============================] - 8s 66ms/step - loss: 7.0912e-04\n",
            "Epoch 11/25\n",
            "124/124 [==============================] - 8s 67ms/step - loss: 7.4166e-04\n",
            "Epoch 12/25\n",
            "124/124 [==============================] - 8s 67ms/step - loss: 6.7189e-04\n",
            "Epoch 13/25\n",
            "124/124 [==============================] - 8s 66ms/step - loss: 6.6302e-04\n",
            "Epoch 14/25\n",
            "124/124 [==============================] - 8s 67ms/step - loss: 6.8661e-04\n",
            "Epoch 15/25\n",
            "124/124 [==============================] - 8s 68ms/step - loss: 6.4598e-04\n",
            "Epoch 16/25\n",
            "124/124 [==============================] - 8s 66ms/step - loss: 7.0127e-04\n",
            "Epoch 17/25\n",
            "124/124 [==============================] - 8s 66ms/step - loss: 6.1354e-04\n",
            "Epoch 18/25\n",
            "124/124 [==============================] - 8s 67ms/step - loss: 6.4050e-04\n",
            "Epoch 19/25\n",
            "124/124 [==============================] - 8s 66ms/step - loss: 5.8188e-04\n",
            "Epoch 20/25\n",
            "124/124 [==============================] - 8s 66ms/step - loss: 6.5668e-04\n",
            "Epoch 21/25\n",
            "124/124 [==============================] - 8s 66ms/step - loss: 7.4384e-04\n",
            "Epoch 22/25\n",
            "124/124 [==============================] - 8s 67ms/step - loss: 6.3823e-04\n",
            "Epoch 23/25\n",
            "124/124 [==============================] - 8s 67ms/step - loss: 5.7294e-04\n",
            "Epoch 24/25\n",
            "124/124 [==============================] - 8s 67ms/step - loss: 5.8590e-04\n",
            "Epoch 25/25\n",
            "124/124 [==============================] - 8s 67ms/step - loss: 5.7059e-04\n"
          ]
        },
        {
          "data": {
            "text/plain": [
              "<keras.callbacks.History at 0x7f795ef50290>"
            ]
          },
          "execution_count": 8,
          "metadata": {},
          "output_type": "execute_result"
        }
      ],
      "source": [
        "model.fit(x_train, y_train, epochs=25, batch_size=32)"
      ]
    },
    {
      "cell_type": "code",
      "execution_count": null,
      "metadata": {
        "id": "wMUkb65R2ZRu"
      },
      "outputs": [],
      "source": [
        "# Test Data\n",
        "\n",
        "test_start = dt.datetime(2021, 1, 1)\n",
        "test_end = dt.datetime.now()\n",
        "\n",
        "test_data = web.DataReader(company, 'stooq', test_start, test_end)\n",
        "\n",
        "actual_price = test_data['Close'].values\n",
        "\n",
        "total_dataset = pd.concat((data['Close'], test_data['Close']))\n",
        "# print(total_dataset)\n",
        "\n",
        "model_inputs = total_dataset[len(total_dataset) - len(test_data) - prediction_days:].values\n",
        "\n",
        "model_inputs = model_inputs.reshape(-1, 1)\n",
        "# print(model_inputs)\n",
        "\n",
        "model_inputs = scaler.transform(model_inputs)\n",
        "# print(model_inputs)\n",
        "\n"
      ]
    },
    {
      "cell_type": "code",
      "execution_count": null,
      "metadata": {
        "id": "PYryv8lZ2ujn"
      },
      "outputs": [],
      "source": [
        "# x_train = []\n",
        "# y_train = []\n",
        "\n",
        "# for x in range(prediction_days, len(scaled_data)):\n",
        "#   x_train.append(scaled_data[x - prediction_days:x, 0])\n",
        "#   y_train.append(scaled_data[x, 0])\n",
        "\n",
        "# x_train = np.array(x_train)\n",
        "# y_train = np.array(y_train)\n",
        "\n",
        "# x_train = np.reshape(x_train, (x_train.shape[0], x_train.shape[1], 1))\n",
        "\n",
        "\n",
        "x_test = []\n",
        "\n",
        "for x in range(prediction_days, len(model_inputs)):\n",
        "  x_test.append(model_inputs[x-prediction_days:x, 0])\n",
        "\n",
        "x_test = np.array(x_test)\n",
        "\n",
        "x_test = np.reshape(x_test, (x_test.shape[0], x_test.shape[1], 1))\n",
        "\n",
        "\n",
        "\n"
      ]
    },
    {
      "cell_type": "code",
      "execution_count": null,
      "metadata": {
        "id": "MU0R5zmX9L3F"
      },
      "outputs": [],
      "source": [
        "predicted_prices = model.predict(x_test)\n",
        "\n",
        "predicted_prices = scaler.inverse_transform(predicted_prices)\n",
        "# print(predicted_prices)"
      ]
    },
    {
      "cell_type": "code",
      "execution_count": null,
      "metadata": {
        "colab": {
          "base_uri": "https://localhost:8080/",
          "height": 265
        },
        "id": "1RAJtitr3-TL",
        "outputId": "3a5a1938-e352-449f-9dbe-5734b50cb0f5"
      },
      "outputs": [
        {
          "data": {
            "image/png": "[encoded data removed]",
            "text/plain": [
              "<Figure size 432x288 with 1 Axes>"
            ]
          },
          "metadata": {
            "needs_background": "light"
          },
          "output_type": "display_data"
        }
      ],
      "source": [
        "plt.plot(actual_price, color=\"black\", label=f\"Actual {company} price\")\n",
        "plt.plot(predicted_prices, color=\"green\", label=f\"Predicted {company} price\")\n",
        "plt.legend()\n",
        "plt.savefig('APPL_Stock_Prediction.png')\n",
        "plt.show()"
      ]
    },
    {
      "cell_type": "code",
      "execution_count": null,
      "metadata": {
        "id": "R6904aI-X-uV"
      },
      "outputs": [],
      "source": []
    }
  ],
  "metadata": {
    "colab": {
      "collapsed_sections": [],
      "name": "NOBE Stock Market Prediction Test.ipynb",
      "provenance": []
    },
    "kernelspec": {
      "display_name": "Python 3",
      "name": "python3"
    },
    "language_info": {
      "codemirror_mode": {
        "name": "ipython",
        "version": 3
      },
      "file_extension": ".py",
      "mimetype": "text/x-python",
      "name": "python",
      "nbconvert_exporter": "python",
      "pygments_lexer": "ipython3",
      "version": "3.7.1"
    }
  },
  "nbformat": 4,
  "nbformat_minor": 0
}
